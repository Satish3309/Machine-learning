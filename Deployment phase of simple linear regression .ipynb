{
 "cells": [
  {
   "cell_type": "code",
   "execution_count": 8,
   "id": "37df970e-81fb-4d74-9c87-f72bbe8c7aaf",
   "metadata": {},
   "outputs": [],
   "source": [
    "import pickle #import pickle for load our saved file "
   ]
  },
  {
   "cell_type": "code",
   "execution_count": 9,
   "id": "bed16289-104a-4a45-88f3-cdf49ab409f2",
   "metadata": {},
   "outputs": [
    {
     "name": "stderr",
     "output_type": "stream",
     "text": [
      "C:\\Anaconda3.12.v\\Lib\\site-packages\\sklearn\\base.py:493: UserWarning: X does not have valid feature names, but LinearRegression was fitted with feature names\n",
      "  warnings.warn(\n"
     ]
    }
   ],
   "source": [
    "loaded_model=pickle.load(open(\"finalized_model_Linear.sav\",'rb')) # then give open command with file name and path \n",
    "result=loaded_model.predict([[25]]) # after loading just give inut to check our model with this new environment "
   ]
  },
  {
   "cell_type": "code",
   "execution_count": 10,
   "id": "9bd87b93-06dd-44e8-beb2-fbc62d809224",
   "metadata": {},
   "outputs": [
    {
     "data": {
      "text/plain": [
       "array([[260783.92349604]])"
      ]
     },
     "execution_count": 10,
     "metadata": {},
     "output_type": "execute_result"
    }
   ],
   "source": [
    "result"
   ]
  },
  {
   "cell_type": "code",
   "execution_count": 11,
   "id": "c26e5b50-dd7f-40a3-8659-64b10a75c576",
   "metadata": {},
   "outputs": [
    {
     "name": "stdin",
     "output_type": "stream",
     "text": [
      "Enter year 26.5\n"
     ]
    },
    {
     "name": "stderr",
     "output_type": "stream",
     "text": [
      "C:\\Anaconda3.12.v\\Lib\\site-packages\\sklearn\\base.py:493: UserWarning: X does not have valid feature names, but LinearRegression was fitted with feature names\n",
      "  warnings.warn(\n"
     ]
    }
   ],
   "source": [
    "#ask input from user \n",
    "year=float(input (\"Enter year\"))\n",
    "loaded_model=pickle.load(open(\"finalized_model_Linear.sav\",'rb')) # then give open command with file name and path \n",
    "result=loaded_model.predict([[year]]) # after loading just give inut to check our model with this new environment \n"
   ]
  },
  {
   "cell_type": "code",
   "execution_count": 12,
   "id": "0a4fa9c7-a896-474e-8c23-8a405d14ff6c",
   "metadata": {},
   "outputs": [
    {
     "data": {
      "text/plain": [
       "array([[274824.31542533]])"
      ]
     },
     "execution_count": 12,
     "metadata": {},
     "output_type": "execute_result"
    }
   ],
   "source": [
    "result"
   ]
  },
  {
   "cell_type": "code",
   "execution_count": null,
   "id": "b49d01b2-ce6c-4820-bee7-e770f66aaf32",
   "metadata": {},
   "outputs": [],
   "source": []
  }
 ],
 "metadata": {
  "kernelspec": {
   "display_name": "Python 3 (ipykernel)",
   "language": "python",
   "name": "python3"
  },
  "language_info": {
   "codemirror_mode": {
    "name": "ipython",
    "version": 3
   },
   "file_extension": ".py",
   "mimetype": "text/x-python",
   "name": "python",
   "nbconvert_exporter": "python",
   "pygments_lexer": "ipython3",
   "version": "3.12.7"
  }
 },
 "nbformat": 4,
 "nbformat_minor": 5
}
